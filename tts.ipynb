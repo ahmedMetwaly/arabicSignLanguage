{
 "cells": [
  {
   "cell_type": "code",
   "execution_count": 19,
   "id": "4976f825",
   "metadata": {},
   "outputs": [
    {
     "name": "stdout",
     "output_type": "stream",
     "text": [
      "Collecting gTTSNote: you may need to restart the kernel to use updated packages.\n",
      "  Downloading gTTS-2.2.2-py3-none-any.whl (25 kB)\n",
      "Requirement already satisfied: six in c:\\programdata\\anaconda3\\envs\\sign\\lib\\site-packages (from gTTS) (1.15.0)\n",
      "Requirement already satisfied: requests in c:\\programdata\\anaconda3\\envs\\sign\\lib\\site-packages (from gTTS) (2.25.1)\n",
      "Requirement already satisfied: click in c:\\programdata\\anaconda3\\envs\\sign\\lib\\site-packages (from gTTS) (7.1.2)\n",
      "Requirement already satisfied: urllib3<1.27,>=1.21.1 in c:\\programdata\\anaconda3\\envs\\sign\\lib\\site-packages (from requests->gTTS) (1.26.4)\n",
      "Requirement already satisfied: idna<3,>=2.5 in c:\\programdata\\anaconda3\\envs\\sign\\lib\\site-packages (from requests->gTTS) (2.10)\n",
      "Requirement already satisfied: certifi>=2017.4.17 in c:\\programdata\\anaconda3\\envs\\sign\\lib\\site-packages (from requests->gTTS) (2020.12.5)\n",
      "Requirement already satisfied: chardet<5,>=3.0.2 in c:\\programdata\\anaconda3\\envs\\sign\\lib\\site-packages (from requests->gTTS) (4.0.0)\n",
      "Installing collected packages: gTTS\n",
      "Successfully installed gTTS-2.2.2\n",
      "\n"
     ]
    }
   ],
   "source": [
    "pip install gTTS"
   ]
  },
  {
   "cell_type": "code",
   "execution_count": 25,
   "id": "53e1a41e",
   "metadata": {},
   "outputs": [
    {
     "name": "stdout",
     "output_type": "stream",
     "text": [
      "Collecting playsoundNote: you may need to restart the kernel to use updated packages.\n",
      "  Downloading playsound-1.2.2-py2.py3-none-any.whl (6.0 kB)\n",
      "Installing collected packages: playsound\n",
      "Successfully installed playsound-1.2.2\n",
      "\n"
     ]
    }
   ],
   "source": [
    "pip install playsound"
   ]
  },
  {
   "cell_type": "code",
   "execution_count": null,
   "id": "89a4b53d",
   "metadata": {},
   "outputs": [],
   "source": [
    "# play the converted audio\n",
    "import os\n",
    "from gtts import gTTS\n",
    "  \n",
    "# The text that you want to convert to audio\n",
    "mytext = 'egh'\n",
    "  \n",
    "# Language in which you want to convert\n",
    "language = 'ar'\n",
    "  \n",
    "# Passing the text and language to the engine, \n",
    "# here we have marked slow=False. Which tells \n",
    "# the module that the converted audio should \n",
    "# have a high speed\n",
    "myobj = gTTS(text=mytext, lang=language, slow=False)\n",
    "  \n",
    "# Saving the converted audio in a mp3 file named\n",
    "# welcome \n",
    "myobj.save(\"welcome.mp3\")\n",
    "  \n",
    "# Playing the converted file\n",
    "os.system(\"start welcome.mp3\")"
   ]
  },
  {
   "cell_type": "code",
   "execution_count": null,
   "id": "10f2ccbc",
   "metadata": {},
   "outputs": [],
   "source": []
  },
  {
   "cell_type": "code",
   "execution_count": null,
   "id": "020030b6",
   "metadata": {},
   "outputs": [],
   "source": []
  },
  {
   "cell_type": "code",
   "execution_count": 4,
   "id": "646c87c7",
   "metadata": {},
   "outputs": [],
   "source": [
    "from playsound import playsound\n",
    "from gtts import gTTS\n",
    "import os\n",
    "def SpeekSign(sign):\n",
    "    mySign = gTTS(text=sign, lang='ar', slow=False)\n",
    "    mySign.save(\"moveBack.mp3\")\n",
    "    playsound(\"moveBack.mp3\")\n",
    "   # os.remove(\"sign.mp3\")\n",
    "    "
   ]
  },
  {
   "cell_type": "code",
   "execution_count": 5,
   "id": "67a53a77",
   "metadata": {},
   "outputs": [],
   "source": [
    "SpeekSign('من فضلك ارجع خطوة للخلف')"
   ]
  },
  {
   "cell_type": "code",
   "execution_count": null,
   "id": "f6093714",
   "metadata": {},
   "outputs": [],
   "source": []
  }
 ],
 "metadata": {
  "kernelspec": {
   "display_name": "Python 3",
   "language": "python",
   "name": "python3"
  },
  "language_info": {
   "codemirror_mode": {
    "name": "ipython",
    "version": 3
   },
   "file_extension": ".py",
   "mimetype": "text/x-python",
   "name": "python",
   "nbconvert_exporter": "python",
   "pygments_lexer": "ipython3",
   "version": "3.7.10"
  }
 },
 "nbformat": 4,
 "nbformat_minor": 5
}
